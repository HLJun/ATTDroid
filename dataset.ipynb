{
 "cells": [
  {
   "cell_type": "code",
   "execution_count": null,
   "metadata": {},
   "outputs": [],
   "source": [
    "# 创建目录，并将数据集移动到自定目录\n",
    "import shutil\n",
    "import os\n",
    "\n",
    "def dataset2(target_directory,source_path):\n",
    "    # 指定目标目录\n",
    "    target_directory = \"/your/target/directory\"\n",
    "\n",
    "    # 创建目标目录\n",
    "    os.makedirs(target_directory, exist_ok=True)\n",
    "\n",
    "    # 源目录列表\n",
    "    source_directories = [\"/public/dataset1\", \"/public/dataset2\", \"/public/dataset3\"]\n",
    "\n",
    "    # 移动数据集到目标目录\n",
    "    for source_directory in source_directories:\n",
    "        shutil.move(source_directory, target_directory)\n",
    "\n",
    "source_path = \"/data1/GooglePlay2016_2017/Googlebenign/2016/\"\n",
    "target = \"\"\n"
   ]
  },
  {
   "cell_type": "code",
   "execution_count": 3,
   "metadata": {},
   "outputs": [
    {
     "name": "stdout",
     "output_type": "stream",
     "text": [
      "['/home/hlj/code/android/code/ATTDroid', '/home/hlj/miniconda3/envs/py39/lib/python39.zip', '/home/hlj/miniconda3/envs/py39/lib/python3.9', '/home/hlj/miniconda3/envs/py39/lib/python3.9/lib-dynload', '', '/home/hlj/miniconda3/envs/py39/lib/python3.9/site-packages', '/home/hlj/miniconda3/envs/py39/lib/python3.9/site-packages/IPython/extensions', '/home/hlj/.ipython', '/home/hlj/code/android/code']\n"
     ]
    }
   ],
   "source": []
  }
 ],
 "metadata": {
  "kernelspec": {
   "display_name": "py39",
   "language": "python",
   "name": "python3"
  },
  "language_info": {
   "codemirror_mode": {
    "name": "ipython",
    "version": 3
   },
   "file_extension": ".py",
   "mimetype": "text/x-python",
   "name": "python",
   "nbconvert_exporter": "python",
   "pygments_lexer": "ipython3",
   "version": "3.9.18"
  }
 },
 "nbformat": 4,
 "nbformat_minor": 2
}
