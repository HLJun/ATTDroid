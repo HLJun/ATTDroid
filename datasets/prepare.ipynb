{
 "cells": [
  {
   "cell_type": "code",
   "execution_count": null,
   "metadata": {},
   "outputs": [],
   "source": [
    "import os\n",
    "from fcg import extract_fcg"
   ]
  },
  {
   "cell_type": "code",
   "execution_count": null,
   "metadata": {},
   "outputs": [],
   "source": [
    "# 读取源数据集\n",
    "def get_dataset(dataset):\n",
    "    dir = \"/home/hlj/dev/shm/gnip/apg/apg_apps/\"+dataset+\"/total/\"\n",
    "    meta_data = []\n",
    "    labels = []\n",
    "    for root, dirs, files in os.walk(dir):\n",
    "        for filename in files:\n",
    "            if filename.endswith(\".apk\"):\n",
    "                label = 0\n",
    "                apk_path = os.path.join(root,filename)\n",
    "                fcg_path = apk_path.replace(\"/total/\",\"/fcg/\").replace('.apk','.txt')\n",
    "                extract_fcg(apk_path,fcg_path)\n",
    "                if os.path.exists(os.path.join(root,apk_path.replace(\"/total/\",\"/mal/\"))):\n",
    "                    label = 1\n",
    "                meta_data.append({\"sample_path\":apk_path,\"dataset\":f\"{dataset}\",\"fcg_path\":fcg_path,\"label\":label})\n",
    "                labels.append(label)\n",
    "\n",
    "get_dataset(\"cic20\")"
   ]
  }
 ],
 "metadata": {
  "kernelspec": {
   "display_name": "py39",
   "language": "python",
   "name": "python3"
  },
  "language_info": {
   "codemirror_mode": {
    "name": "ipython",
    "version": 3
   },
   "file_extension": ".py",
   "mimetype": "text/x-python",
   "name": "python",
   "nbconvert_exporter": "python",
   "pygments_lexer": "ipython3",
   "version": "3.9.18"
  }
 },
 "nbformat": 4,
 "nbformat_minor": 2
}
