{
 "cells": [
  {
   "cell_type": "code",
   "execution_count": null,
   "metadata": {},
   "outputs": [],
   "source": [
    "import re\n",
    "import json\n",
    "\n",
    "# 读取txt文件\n",
    "with open('data.txt') as f:\n",
    "  lines = f.readlines()\n",
    "\n",
    "# 正则表达式提取API调用\n",
    "pattern = r\"([a-zA-Z0-9_.]+)\\(([^)]+)\\)\"\n",
    "\n",
    "clusters = {}\n",
    "\n",
    "for line in lines:\n",
    "  cluster = re.search(r\"cluster (\\d+)\", line).group(1)\n",
    "\n",
    "  api = re.search(pattern, line)\n",
    "  if api:\n",
    "    api = api.group(1) + api.group(2)\n",
    "  \n",
    "  # 添加到对应集合\n",
    "  if cluster not in clusters:\n",
    "    clusters[cluster] = []\n",
    "    \n",
    "  if api not in clusters[cluster]:  \n",
    "    clusters[cluster].append(api)\n",
    "\n",
    "# 输出到json文件    \n",
    "with open('result.json', 'w') as f:\n",
    "  json.dump(clusters, f, indent=2)"
   ]
  }
 ],
 "metadata": {
  "language_info": {
   "name": "python"
  }
 },
 "nbformat": 4,
 "nbformat_minor": 2
}
